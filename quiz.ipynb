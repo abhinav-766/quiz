{
 "cells": [
  {
   "cell_type": "markdown",
   "metadata": {},
   "source": [
    "# A simple test for the sake of learning some python"
   ]
  },
  {
   "cell_type": "markdown",
   "metadata": {},
   "source": [
    "### Question:\n",
    "Given a list `numbers = [1, 2, 3, 4, 5]`, write Python code to append the number 6 to the end of the list."
   ]
  },
  {
   "cell_type": "code",
   "execution_count": null,
   "metadata": {},
   "outputs": [],
   "source": [
    "list = [1,2,3,4,5]\n",
    "list.append(6)\n",
    "print(list)"
   ]
  },
  {
   "cell_type": "code",
   "execution_count": 1,
   "metadata": {},
   "outputs": [
    {
     "name": "stdout",
     "output_type": "stream",
     "text": [
      "[1, 2, 3, 4, 5, 6]\n"
     ]
    }
   ],
   "source": [
    "list = [1,2,3,4,5]\n",
    "list.append(6)\n",
    "print(list)"
   ]
  },
  {
   "cell_type": "markdown",
   "metadata": {},
   "source": [
    "### Question:\n",
    "Suppose you have a list `fruits = ['apple', 'banana', 'orange', 'grape']`. Write Python code to remove the element 'orange' from the list.\n"
   ]
  },
  {
   "cell_type": "code",
   "execution_count": 8,
   "metadata": {},
   "outputs": [
    {
     "name": "stdout",
     "output_type": "stream",
     "text": [
      "['apple', 'banana', 'grape']\n"
     ]
    }
   ],
   "source": [
    "list = ['apple','banana','orange','grape']\n",
    "list.remove('orange')\n",
    "print(list)"
   ]
  },
  {
   "cell_type": "markdown",
   "metadata": {},
   "source": [
    "### Question:\n",
    "Write a Python code that takes a list of integers as input and returns a new list with only the even numbers from the original list."
   ]
  },
  {
   "cell_type": "code",
   "execution_count": 3,
   "metadata": {},
   "outputs": [
    {
     "name": "stdout",
     "output_type": "stream",
     "text": [
      "even no in the list: [2, 4, 6, 8, 10]\n"
     ]
    }
   ],
   "source": [
    "list = [1,2,3,4,5,6,7,8,9,10]\n",
    "even_no = [num for num in list if num%2==0]\n",
    "print(\"even no in the list:\" , even_no)"
   ]
  },
  {
   "cell_type": "markdown",
   "metadata": {},
   "source": [
    "### Question:\n",
    "Given two lists `list1 = [1, 2, 3]` and `list2 = [4, 5, 6]`, write Python code to combine these two lists and create a new list."
   ]
  },
  {
   "cell_type": "code",
   "execution_count": 20,
   "metadata": {},
   "outputs": [
    {
     "name": "stdout",
     "output_type": "stream",
     "text": [
      "Combined list: [1, 2, 3, 4, 5, 6]\n"
     ]
    }
   ],
   "source": [
    "list1 = [1, 2, 3]\n",
    "list2 = [4, 5, 6]\n",
    "combined_list = list1 + list2\n",
    "\n",
    "print(\"Combined list:\", combined_list)\n"
   ]
  },
  {
   "cell_type": "markdown",
   "metadata": {},
   "source": [
    "### Question:\n",
    "Write a Python code that takes a list of strings as input and returns a new list containing only the strings with a length greater than 5."
   ]
  },
  {
   "cell_type": "code",
   "execution_count": null,
   "metadata": {},
   "outputs": [],
   "source": []
  },
  {
   "cell_type": "markdown",
   "metadata": {},
   "source": [
    "### Question:\n",
    "Create a Python dictionary `student` with the following key-value pairs: 'name' set to 'John', 'age' set to 25, and 'major' set to 'Computer Science'."
   ]
  },
  {
   "cell_type": "code",
   "execution_count": 10,
   "metadata": {},
   "outputs": [
    {
     "name": "stdout",
     "output_type": "stream",
     "text": [
      "{'name': 'John', 'age': 25, 'major': 'Computer Science'}\n"
     ]
    }
   ],
   "source": [
    "student = {\n",
    "    'name': 'John',\n",
    "    'age': 25,\n",
    "    'major': 'Computer Science'\n",
    "}\n",
    "\n",
    "print(student)\n"
   ]
  },
  {
   "cell_type": "markdown",
   "metadata": {},
   "source": [
    "### Question:\n",
    "Given the following dictionary `inventory = {'apples': 10, 'bananas': 5, 'oranges': 8}`, write Python code to check if the key 'grapes' is present in the dictionary.\n"
   ]
  },
  {
   "cell_type": "code",
   "execution_count": 11,
   "metadata": {},
   "outputs": [
    {
     "name": "stdout",
     "output_type": "stream",
     "text": [
      "Grapes are not present in the inventory.\n"
     ]
    }
   ],
   "source": [
    "inventory = {'apples': 10, 'bananas': 5, 'oranges': 8}\n",
    "\n",
    "if 'grapes' in inventory:\n",
    "    print(\"Grapes are present in the inventory.\")\n",
    "else:\n",
    "    print(\"Grapes are not present in the inventory.\")\n"
   ]
  },
  {
   "cell_type": "markdown",
   "metadata": {},
   "source": [
    "### Question:\n",
    "Write a Python code that takes a dictionary of items and their prices as input and returns the item with the highest price."
   ]
  },
  {
   "cell_type": "code",
   "execution_count": null,
   "metadata": {},
   "outputs": [],
   "source": []
  },
  {
   "cell_type": "markdown",
   "metadata": {},
   "source": [
    "\n",
    "### Question:\n",
    "Suppose you have a dictionary `contacts` containing contact information. Write Python code to remove the contact with the key 'John' from the dictionary.\n"
   ]
  },
  {
   "cell_type": "code",
   "execution_count": 12,
   "metadata": {},
   "outputs": [
    {
     "name": "stdout",
     "output_type": "stream",
     "text": [
      "Contact 'John' has been removed.\n",
      "Updated contacts: {'Alice': 'alice@example.com', 'Bob': 'bob@example.com', 'Eve': 'eve@example.com'}\n"
     ]
    }
   ],
   "source": [
    "contacts = {\n",
    "    'John': 'john@example.com',\n",
    "    'Alice': 'alice@example.com',\n",
    "    'Bob': 'bob@example.com',\n",
    "    'Eve': 'eve@example.com'\n",
    "}\n",
    "\n",
    "if 'John' in contacts:\n",
    "    contacts.pop('John')\n",
    "    print(\"Contact 'John' has been removed.\")\n",
    "else:\n",
    "    print(\"Contact 'John' not found in the dictionary.\")\n",
    "\n",
    "print(\"Updated contacts:\", contacts)\n"
   ]
  },
  {
   "cell_type": "markdown",
   "metadata": {},
   "source": [
    "\n",
    "### Question:\n",
    "Write a Python code that takes a dictionary of words and their frequencies as input and returns a list of words sorted in alphabetical order"
   ]
  },
  {
   "cell_type": "code",
   "execution_count": null,
   "metadata": {},
   "outputs": [],
   "source": []
  },
  {
   "cell_type": "markdown",
   "metadata": {},
   "source": [
    "### Question:\n",
    "How can you convert a string `sentence` to all uppercase letters in Python?"
   ]
  },
  {
   "cell_type": "code",
   "execution_count": 14,
   "metadata": {},
   "outputs": [
    {
     "name": "stdout",
     "output_type": "stream",
     "text": [
      "ZOR BOLO JAI MATA DI\n"
     ]
    }
   ],
   "source": [
    "sentence = \"zor bolo jai mata di\"\n",
    "\n",
    "uppercase_sentence = sentence.upper()\n",
    "\n",
    "print(uppercase_sentence)\n"
   ]
  },
  {
   "cell_type": "markdown",
   "metadata": {},
   "source": [
    "### Question:\n",
    "Given a string `email = \"john.doe@example.com\"`, write Python code to extract the domain name 'example.com' from the email."
   ]
  },
  {
   "cell_type": "code",
   "execution_count": 15,
   "metadata": {},
   "outputs": [
    {
     "name": "stdout",
     "output_type": "stream",
     "text": [
      "Domain name: example.com\n"
     ]
    }
   ],
   "source": [
    "email = \"john.doe@example.com\"\n",
    "username, domain = email.split('@')\n",
    "print(\"Domain name:\", domain)\n"
   ]
  },
  {
   "cell_type": "markdown",
   "metadata": {},
   "source": [
    "### Question:\n",
    "Write a Python code that takes a string as input and returns a new string with all vowels replaced by the letter 'x'."
   ]
  },
  {
   "cell_type": "code",
   "execution_count": null,
   "metadata": {},
   "outputs": [],
   "source": []
  },
  {
   "cell_type": "markdown",
   "metadata": {},
   "source": [
    "### Question:\n",
    "Suppose you have a string `sentence = \"Python programming is fun!\"`. Write Python code to count the number of words in the sentence."
   ]
  },
  {
   "cell_type": "code",
   "execution_count": 16,
   "metadata": {},
   "outputs": [
    {
     "name": "stdout",
     "output_type": "stream",
     "text": [
      "Number of words in the sentence: 4\n"
     ]
    }
   ],
   "source": [
    "sentence = \"Python programming is fun!\"\n",
    "words_list = sentence.split()\n",
    "num_words = len(words_list)\n",
    "\n",
    "print(\"Number of words in the sentence:\", num_words)\n"
   ]
  },
  {
   "cell_type": "markdown",
   "metadata": {},
   "source": [
    "### Question:\n",
    "Write a Python code that takes a list of words and a character as input and returns a new list with only the words that start with the given character."
   ]
  },
  {
   "cell_type": "code",
   "execution_count": null,
   "metadata": {},
   "outputs": [],
   "source": []
  },
  {
   "cell_type": "markdown",
   "metadata": {},
   "source": [
    "### Question:\n",
    "Write a Python code that takes a list of strings as input and returns a new list with the strings sorted in ascending order based on their lengths."
   ]
  },
  {
   "cell_type": "code",
   "execution_count": null,
   "metadata": {},
   "outputs": [],
   "source": []
  },
  {
   "cell_type": "markdown",
   "metadata": {},
   "source": [
    "### Question:\n",
    "Suppose you have a list `numbers = [3, 5, 1, 8, 2]`. Write Python code to find the sum of all the numbers in the list."
   ]
  },
  {
   "cell_type": "code",
   "execution_count": 17,
   "metadata": {},
   "outputs": [
    {
     "name": "stdout",
     "output_type": "stream",
     "text": [
      "Sum of numbers in the list: 19\n"
     ]
    }
   ],
   "source": [
    "numbers = [3, 5, 1, 8, 2]\n",
    "sum_of_numbers = sum(numbers)\n",
    "\n",
    "print(\"Sum of numbers in the list:\", sum_of_numbers)\n"
   ]
  },
  {
   "cell_type": "markdown",
   "metadata": {},
   "source": [
    "### Question:\n",
    "Given a list `names = ['Alice', 'Bob', 'Charlie', 'David']`, write Python code to create a new list with the names that contain the letter 'a'."
   ]
  },
  {
   "cell_type": "code",
   "execution_count": 18,
   "metadata": {},
   "outputs": [
    {
     "name": "stdout",
     "output_type": "stream",
     "text": [
      "Names containing the letter 'a': ['Alice', 'Charlie', 'David']\n"
     ]
    }
   ],
   "source": [
    "names = ['Alice', 'Bob', 'Charlie', 'David']\n",
    "names_with_a = [name for name in names if 'a' in name.lower()]\n",
    "\n",
    "print(\"Names containing the letter 'a':\", names_with_a)\n"
   ]
  },
  {
   "cell_type": "markdown",
   "metadata": {},
   "source": [
    "### Question:\n",
    "Write a Python code that takes a list of integers as input and returns a new list with only the unique elements (remove duplicates) in the same order they appear in the original list."
   ]
  },
  {
   "cell_type": "code",
   "execution_count": null,
   "metadata": {},
   "outputs": [],
   "source": []
  },
  {
   "cell_type": "markdown",
   "metadata": {},
   "source": [
    "### Question:\n",
    "Suppose you have a list `words = ['hello', 'world']`. Write Python code to join the elements of the list into a single string separated by a space."
   ]
  },
  {
   "cell_type": "code",
   "execution_count": 19,
   "metadata": {},
   "outputs": [
    {
     "name": "stdout",
     "output_type": "stream",
     "text": [
      "hello world\n"
     ]
    }
   ],
   "source": [
    "words = ['hello', 'world']\n",
    "\n",
    "joined_string = ' '.join(words)\n",
    "\n",
    "print(joined_string)\n"
   ]
  },
  {
   "cell_type": "markdown",
   "metadata": {},
   "source": [
    "### Question:\n",
    "Write a Python code that takes two dictionaries as input and returns a new dictionary containing key-value pairs from both dictionaries. If a key exists in both dictionaries, the value from the second dictionary should overwrite the value from the first dictionary."
   ]
  },
  {
   "cell_type": "code",
   "execution_count": null,
   "metadata": {},
   "outputs": [],
   "source": []
  },
  {
   "cell_type": "markdown",
   "metadata": {},
   "source": [
    "### Question:\n",
    "Given the dictionary `scores = {'Alice': 85, 'Bob': 92, 'Charlie': 78}`, write Python code to find the student with the highest score."
   ]
  },
  {
   "cell_type": "code",
   "execution_count": null,
   "metadata": {},
   "outputs": [],
   "source": []
  },
  {
   "cell_type": "markdown",
   "metadata": {},
   "source": [
    "### Question:\n",
    "Write a Python code that takes a dictionary of words and their frequencies as input and returns a new dictionary with words as keys and their frequencies as values, but only for words with frequencies greater than 1."
   ]
  },
  {
   "cell_type": "code",
   "execution_count": null,
   "metadata": {},
   "outputs": [],
   "source": []
  },
  {
   "cell_type": "markdown",
   "metadata": {},
   "source": [
    "### Question:\n",
    "Suppose you have a nested dictionary representing a person's contact information:\n",
    "```python\n",
    "contact_info = {\n",
    "    'name': 'John Doe',\n",
    "    'phone': {\n",
    "        'home': '123-456-7890',\n",
    "        'work': '987-654-3210'\n",
    "    },\n",
    "    'email': 'john.doe@example.com'\n",
    "}\n",
    "```\n",
    "Write Python code to extract John's home phone number from the dictionary."
   ]
  },
  {
   "cell_type": "code",
   "execution_count": null,
   "metadata": {},
   "outputs": [],
   "source": []
  },
  {
   "cell_type": "markdown",
   "metadata": {},
   "source": [
    "### Question:\n",
    "Write a Python code that takes a dictionary of strings as input and returns a new dictionary with the strings sorted in alphabetical order based on their keys."
   ]
  },
  {
   "cell_type": "code",
   "execution_count": null,
   "metadata": {},
   "outputs": [],
   "source": []
  },
  {
   "cell_type": "markdown",
   "metadata": {},
   "source": [
    "### Question:\n",
    "Write a Python code that takes a string as input and returns the string reversed."
   ]
  },
  {
   "cell_type": "code",
   "execution_count": null,
   "metadata": {},
   "outputs": [],
   "source": [
    "input_str = \"Hello, World\"\n",
    "[::-1]"
   ]
  },
  {
   "cell_type": "markdown",
   "metadata": {},
   "source": [
    "### Question:\n",
    "Given a string `sentence = \"The quick brown fox jumps over the lazy dog.\"`, write Python code to count the number of occurrences of each word in the sentence (case-insensitive) and store them in a dictionary."
   ]
  },
  {
   "cell_type": "code",
   "execution_count": null,
   "metadata": {},
   "outputs": [],
   "source": []
  },
  {
   "cell_type": "markdown",
   "metadata": {},
   "source": [
    "### Question:\n",
    "Write a Python code that takes a string as input and returns the number of words in the string."
   ]
  },
  {
   "cell_type": "code",
   "execution_count": null,
   "metadata": {},
   "outputs": [],
   "source": []
  },
  {
   "cell_type": "markdown",
   "metadata": {},
   "source": [
    "### Question:\n",
    "Suppose you have a string `sentence = \"Apples are healthy, and oranges are delicious.\"`. Write Python code to find and extract the substring between the words 'Apples' and 'oranges'."
   ]
  },
  {
   "cell_type": "code",
   "execution_count": null,
   "metadata": {},
   "outputs": [],
   "source": []
  },
  {
   "cell_type": "markdown",
   "metadata": {},
   "source": [
    "\n",
    "### Question:\n",
    "Write a Python code that takes a string as input and returns a new string with all the punctuation marks removed."
   ]
  },
  {
   "cell_type": "code",
   "execution_count": null,
   "metadata": {},
   "outputs": [],
   "source": []
  },
  {
   "cell_type": "markdown",
   "metadata": {},
   "source": [
    "Thanks you"
   ]
  }
 ],
 "metadata": {
  "kernelspec": {
   "display_name": "base",
   "language": "python",
   "name": "python3"
  },
  "language_info": {
   "codemirror_mode": {
    "name": "ipython",
    "version": 3
   },
   "file_extension": ".py",
   "mimetype": "text/x-python",
   "name": "python",
   "nbconvert_exporter": "python",
   "pygments_lexer": "ipython3",
   "version": "3.10.10"
  },
  "orig_nbformat": 4
 },
 "nbformat": 4,
 "nbformat_minor": 2
}
